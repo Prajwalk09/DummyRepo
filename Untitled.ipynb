{
 "cells": [
  {
   "cell_type": "markdown",
   "id": "0d16ac24",
   "metadata": {},
   "source": [
    "<h3> My Jupyter Notebook </h3>"
   ]
  },
  {
   "cell_type": "markdown",
   "id": "3293002c",
   "metadata": {},
   "source": [
    "<strong> Prajwal Kumar Bhat </strong>"
   ]
  },
  {
   "cell_type": "markdown",
   "id": "545ca6e0",
   "metadata": {},
   "source": [
    "<i> I am interested in data science because data science gives meaning to raw data and converts it into meaningful insights that can be used to grow the business and recognize market trends. </i>"
   ]
  },
  {
   "cell_type": "markdown",
   "id": "1e2fdfca",
   "metadata": {},
   "source": [
    "<h3> The below cell does the basic operation of adding two numbers ,1 and 1 </h3>"
   ]
  },
  {
   "cell_type": "code",
   "execution_count": 1,
   "id": "541a6e2e",
   "metadata": {},
   "outputs": [
    {
     "name": "stdout",
     "output_type": "stream",
     "text": [
      "2\n"
     ]
    }
   ],
   "source": [
    "print(1+1)"
   ]
  },
  {
   "cell_type": "markdown",
   "id": "2b52420c",
   "metadata": {},
   "source": [
    "<h4> Concepts in data science <h4>\n",
    "    <ul>\n",
    "        <li> Statistics </li>\n",
    "        <li> Visualization </li>        \n",
    "        <li> Machine Learning </li>      \n",
    "        <li> Deep Learning </li>    \n",
    "    </ul>\n",
    "        <hr>\n",
    "    <h4> Concepts in Machine Learning </h4>\n",
    "    <ol>\n",
    "        <li> Supervised and Unsupervised Learning </li>\n",
    "        <li> Classification and Regession </li>\n",
    "    </ol>\n",
    "    <br>\n",
    "    <h4> Click on the below link to know about Data Science </h4>\n",
    "<a href=\"https://en.wikipedia.org/wiki/Data_science\">Click Here</a>"
   ]
  }
 ],
 "metadata": {
  "kernelspec": {
   "display_name": "Python 3 (ipykernel)",
   "language": "python",
   "name": "python3"
  },
  "language_info": {
   "codemirror_mode": {
    "name": "ipython",
    "version": 3
   },
   "file_extension": ".py",
   "mimetype": "text/x-python",
   "name": "python",
   "nbconvert_exporter": "python",
   "pygments_lexer": "ipython3",
   "version": "3.9.13"
  }
 },
 "nbformat": 4,
 "nbformat_minor": 5
}
